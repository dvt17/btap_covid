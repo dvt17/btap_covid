{
 "cells": [
  {
   "cell_type": "markdown",
   "id": "2d204cd7",
   "metadata": {},
   "source": [
    "# PHÂN TÍCH DỮ LIỆU CO-VID 19\n",
    "**Thu thập và chuẩn bị dữ liệu**"
   ]
  },
  {
   "cell_type": "code",
   "execution_count": 17,
   "id": "955bcc8b",
   "metadata": {},
   "outputs": [],
   "source": [
    "import pandas as pd\n",
    "import numpy as np\n",
    "import plotly.express as px"
   ]
  },
  {
   "cell_type": "code",
   "execution_count": 18,
   "id": "0d6109d2",
   "metadata": {},
   "outputs": [
    {
     "data": {
      "application/vnd.microsoft.datawrangler.viewer.v0+json": {
       "columns": [
        {
         "name": "index",
         "rawType": "int64",
         "type": "integer"
        },
        {
         "name": "Province_State",
         "rawType": "object",
         "type": "string"
        },
        {
         "name": "Country_Region",
         "rawType": "object",
         "type": "string"
        },
        {
         "name": "Last_Update",
         "rawType": "object",
         "type": "string"
        },
        {
         "name": "Lat",
         "rawType": "float64",
         "type": "float"
        },
        {
         "name": "Long_",
         "rawType": "float64",
         "type": "float"
        },
        {
         "name": "Confirmed",
         "rawType": "int64",
         "type": "integer"
        },
        {
         "name": "Deaths",
         "rawType": "int64",
         "type": "integer"
        },
        {
         "name": "Recovered",
         "rawType": "float64",
         "type": "float"
        },
        {
         "name": "Active",
         "rawType": "float64",
         "type": "float"
        },
        {
         "name": "FIPS",
         "rawType": "float64",
         "type": "float"
        },
        {
         "name": "Incident_Rate",
         "rawType": "float64",
         "type": "float"
        },
        {
         "name": "Total_Test_Results",
         "rawType": "float64",
         "type": "float"
        },
        {
         "name": "People_Hospitalized",
         "rawType": "float64",
         "type": "float"
        },
        {
         "name": "Case_Fatality_Ratio",
         "rawType": "float64",
         "type": "float"
        },
        {
         "name": "UID",
         "rawType": "float64",
         "type": "float"
        },
        {
         "name": "ISO3",
         "rawType": "object",
         "type": "string"
        },
        {
         "name": "Testing_Rate",
         "rawType": "float64",
         "type": "float"
        },
        {
         "name": "Hospitalization_Rate",
         "rawType": "float64",
         "type": "float"
        },
        {
         "name": "Date",
         "rawType": "object",
         "type": "string"
        },
        {
         "name": "People_Tested",
         "rawType": "float64",
         "type": "float"
        },
        {
         "name": "Mortality_Rate",
         "rawType": "float64",
         "type": "float"
        }
       ],
       "ref": "b157bfbb-93f4-4a91-a76e-b2706230b9c3",
       "rows": [
        [
         "0",
         "Alabama",
         "US",
         "2022-02-22 04:31:49",
         "32.3182",
         "-86.9023",
         "1273484",
         "17933",
         null,
         null,
         "1.0",
         "25972.587206071155",
         null,
         null,
         "1.408184162502238",
         "84000001.0",
         "USA",
         null,
         null,
         "2022-02-21",
         null,
         null
        ],
        [
         "1",
         "Alaska",
         "US",
         "2022-02-22 04:31:49",
         "61.3707",
         "-152.4044",
         "235956",
         "1141",
         null,
         null,
         "2.0",
         "32254.47511773028",
         "3741734.0",
         null,
         "0.483564732407737",
         "84000002.0",
         "USA",
         "511483.7774846387",
         null,
         "2022-02-21",
         null,
         null
        ],
        [
         "2",
         "American Samoa",
         "US",
         "2022-02-22 04:31:49",
         "-14.271",
         "-170.132",
         "18",
         "0",
         null,
         null,
         "60.0",
         "32.350245322693695",
         "2140.0",
         null,
         "0.0",
         "16.0",
         "ASM",
         "3846.084721698028",
         null,
         "2022-02-21",
         null,
         null
        ],
        [
         "3",
         "Arizona",
         "US",
         "2022-02-22 04:31:49",
         "33.7298",
         "-111.4312",
         "1967704",
         "27622",
         null,
         null,
         "4.0",
         "27033.665411088245",
         "18125642.0",
         null,
         "1.403768046413485",
         "84000004.0",
         "USA",
         "249022.48569356385",
         null,
         "2022-02-21",
         null,
         null
        ],
        [
         "4",
         "Arkansas",
         "US",
         "2022-02-22 04:31:49",
         "34.9697",
         "-92.3731",
         "815299",
         "10292",
         null,
         null,
         "5.0",
         "27016.3005947371",
         "4933978.0",
         null,
         "1.262358962785432",
         "84000005.0",
         "USA",
         "163495.64120135034",
         null,
         "2022-02-21",
         null,
         null
        ]
       ],
       "shape": {
        "columns": 21,
        "rows": 5
       }
      },
      "text/html": [
       "<div>\n",
       "<style scoped>\n",
       "    .dataframe tbody tr th:only-of-type {\n",
       "        vertical-align: middle;\n",
       "    }\n",
       "\n",
       "    .dataframe tbody tr th {\n",
       "        vertical-align: top;\n",
       "    }\n",
       "\n",
       "    .dataframe thead th {\n",
       "        text-align: right;\n",
       "    }\n",
       "</style>\n",
       "<table border=\"1\" class=\"dataframe\">\n",
       "  <thead>\n",
       "    <tr style=\"text-align: right;\">\n",
       "      <th></th>\n",
       "      <th>Province_State</th>\n",
       "      <th>Country_Region</th>\n",
       "      <th>Last_Update</th>\n",
       "      <th>Lat</th>\n",
       "      <th>Long_</th>\n",
       "      <th>Confirmed</th>\n",
       "      <th>Deaths</th>\n",
       "      <th>Recovered</th>\n",
       "      <th>Active</th>\n",
       "      <th>FIPS</th>\n",
       "      <th>...</th>\n",
       "      <th>Total_Test_Results</th>\n",
       "      <th>People_Hospitalized</th>\n",
       "      <th>Case_Fatality_Ratio</th>\n",
       "      <th>UID</th>\n",
       "      <th>ISO3</th>\n",
       "      <th>Testing_Rate</th>\n",
       "      <th>Hospitalization_Rate</th>\n",
       "      <th>Date</th>\n",
       "      <th>People_Tested</th>\n",
       "      <th>Mortality_Rate</th>\n",
       "    </tr>\n",
       "  </thead>\n",
       "  <tbody>\n",
       "    <tr>\n",
       "      <th>0</th>\n",
       "      <td>Alabama</td>\n",
       "      <td>US</td>\n",
       "      <td>2022-02-22 04:31:49</td>\n",
       "      <td>32.3182</td>\n",
       "      <td>-86.9023</td>\n",
       "      <td>1273484</td>\n",
       "      <td>17933</td>\n",
       "      <td>NaN</td>\n",
       "      <td>NaN</td>\n",
       "      <td>1.0</td>\n",
       "      <td>...</td>\n",
       "      <td>NaN</td>\n",
       "      <td>NaN</td>\n",
       "      <td>1.408184</td>\n",
       "      <td>84000001.0</td>\n",
       "      <td>USA</td>\n",
       "      <td>NaN</td>\n",
       "      <td>NaN</td>\n",
       "      <td>2022-02-21</td>\n",
       "      <td>NaN</td>\n",
       "      <td>NaN</td>\n",
       "    </tr>\n",
       "    <tr>\n",
       "      <th>1</th>\n",
       "      <td>Alaska</td>\n",
       "      <td>US</td>\n",
       "      <td>2022-02-22 04:31:49</td>\n",
       "      <td>61.3707</td>\n",
       "      <td>-152.4044</td>\n",
       "      <td>235956</td>\n",
       "      <td>1141</td>\n",
       "      <td>NaN</td>\n",
       "      <td>NaN</td>\n",
       "      <td>2.0</td>\n",
       "      <td>...</td>\n",
       "      <td>3741734.0</td>\n",
       "      <td>NaN</td>\n",
       "      <td>0.483565</td>\n",
       "      <td>84000002.0</td>\n",
       "      <td>USA</td>\n",
       "      <td>511483.777485</td>\n",
       "      <td>NaN</td>\n",
       "      <td>2022-02-21</td>\n",
       "      <td>NaN</td>\n",
       "      <td>NaN</td>\n",
       "    </tr>\n",
       "    <tr>\n",
       "      <th>2</th>\n",
       "      <td>American Samoa</td>\n",
       "      <td>US</td>\n",
       "      <td>2022-02-22 04:31:49</td>\n",
       "      <td>-14.2710</td>\n",
       "      <td>-170.1320</td>\n",
       "      <td>18</td>\n",
       "      <td>0</td>\n",
       "      <td>NaN</td>\n",
       "      <td>NaN</td>\n",
       "      <td>60.0</td>\n",
       "      <td>...</td>\n",
       "      <td>2140.0</td>\n",
       "      <td>NaN</td>\n",
       "      <td>0.000000</td>\n",
       "      <td>16.0</td>\n",
       "      <td>ASM</td>\n",
       "      <td>3846.084722</td>\n",
       "      <td>NaN</td>\n",
       "      <td>2022-02-21</td>\n",
       "      <td>NaN</td>\n",
       "      <td>NaN</td>\n",
       "    </tr>\n",
       "    <tr>\n",
       "      <th>3</th>\n",
       "      <td>Arizona</td>\n",
       "      <td>US</td>\n",
       "      <td>2022-02-22 04:31:49</td>\n",
       "      <td>33.7298</td>\n",
       "      <td>-111.4312</td>\n",
       "      <td>1967704</td>\n",
       "      <td>27622</td>\n",
       "      <td>NaN</td>\n",
       "      <td>NaN</td>\n",
       "      <td>4.0</td>\n",
       "      <td>...</td>\n",
       "      <td>18125642.0</td>\n",
       "      <td>NaN</td>\n",
       "      <td>1.403768</td>\n",
       "      <td>84000004.0</td>\n",
       "      <td>USA</td>\n",
       "      <td>249022.485694</td>\n",
       "      <td>NaN</td>\n",
       "      <td>2022-02-21</td>\n",
       "      <td>NaN</td>\n",
       "      <td>NaN</td>\n",
       "    </tr>\n",
       "    <tr>\n",
       "      <th>4</th>\n",
       "      <td>Arkansas</td>\n",
       "      <td>US</td>\n",
       "      <td>2022-02-22 04:31:49</td>\n",
       "      <td>34.9697</td>\n",
       "      <td>-92.3731</td>\n",
       "      <td>815299</td>\n",
       "      <td>10292</td>\n",
       "      <td>NaN</td>\n",
       "      <td>NaN</td>\n",
       "      <td>5.0</td>\n",
       "      <td>...</td>\n",
       "      <td>4933978.0</td>\n",
       "      <td>NaN</td>\n",
       "      <td>1.262359</td>\n",
       "      <td>84000005.0</td>\n",
       "      <td>USA</td>\n",
       "      <td>163495.641201</td>\n",
       "      <td>NaN</td>\n",
       "      <td>2022-02-21</td>\n",
       "      <td>NaN</td>\n",
       "      <td>NaN</td>\n",
       "    </tr>\n",
       "  </tbody>\n",
       "</table>\n",
       "<p>5 rows × 21 columns</p>\n",
       "</div>"
      ],
      "text/plain": [
       "   Province_State Country_Region          Last_Update      Lat     Long_  \\\n",
       "0         Alabama             US  2022-02-22 04:31:49  32.3182  -86.9023   \n",
       "1          Alaska             US  2022-02-22 04:31:49  61.3707 -152.4044   \n",
       "2  American Samoa             US  2022-02-22 04:31:49 -14.2710 -170.1320   \n",
       "3         Arizona             US  2022-02-22 04:31:49  33.7298 -111.4312   \n",
       "4        Arkansas             US  2022-02-22 04:31:49  34.9697  -92.3731   \n",
       "\n",
       "   Confirmed  Deaths  Recovered  Active  FIPS  ...  Total_Test_Results  \\\n",
       "0    1273484   17933        NaN     NaN   1.0  ...                 NaN   \n",
       "1     235956    1141        NaN     NaN   2.0  ...           3741734.0   \n",
       "2         18       0        NaN     NaN  60.0  ...              2140.0   \n",
       "3    1967704   27622        NaN     NaN   4.0  ...          18125642.0   \n",
       "4     815299   10292        NaN     NaN   5.0  ...           4933978.0   \n",
       "\n",
       "   People_Hospitalized  Case_Fatality_Ratio         UID  ISO3   Testing_Rate  \\\n",
       "0                  NaN             1.408184  84000001.0   USA            NaN   \n",
       "1                  NaN             0.483565  84000002.0   USA  511483.777485   \n",
       "2                  NaN             0.000000        16.0   ASM    3846.084722   \n",
       "3                  NaN             1.403768  84000004.0   USA  249022.485694   \n",
       "4                  NaN             1.262359  84000005.0   USA  163495.641201   \n",
       "\n",
       "   Hospitalization_Rate        Date People_Tested  Mortality_Rate  \n",
       "0                   NaN  2022-02-21           NaN             NaN  \n",
       "1                   NaN  2022-02-21           NaN             NaN  \n",
       "2                   NaN  2022-02-21           NaN             NaN  \n",
       "3                   NaN  2022-02-21           NaN             NaN  \n",
       "4                   NaN  2022-02-21           NaN             NaN  \n",
       "\n",
       "[5 rows x 21 columns]"
      ]
     },
     "execution_count": 18,
     "metadata": {},
     "output_type": "execute_result"
    }
   ],
   "source": [
    "# Collect URLs \n",
    "url_confirmed = 'https://raw.githubusercontent.com/CSSEGISandData/COVID-19/master/csse_covid_19_data/csse_covid_19_time_series/time_series_covid19_confirmed_global.csv'\n",
    "url_deaths = 'https://raw.githubusercontent.com/CSSEGISandData/COVID-19/master/csse_covid_19_data/csse_covid_19_time_series/time_series_covid19_deaths_global.csv'\n",
    "url_recoveries = 'https://raw.githubusercontent.com/CSSEGISandData/COVID-19/master/csse_covid_19_data/csse_covid_19_time_series/time_series_covid19_recovered_global.csv'\n",
    "url_latest = 'https://raw.githubusercontent.com/CSSEGISandData/COVID-19/master/csse_covid_19_data/csse_covid_19_daily_reports/02-21-2022.csv'\n",
    "url_us_medical = 'https://raw.githubusercontent.com/CSSEGISandData/COVID-19/master/csse_covid_19_data/csse_covid_19_daily_reports_us/02-21-2022.csv'\n",
    "# Read data from URLs\n",
    "confirmed = pd.read_csv(url_confirmed)\n",
    "deaths = pd.read_csv(url_deaths)\n",
    "recoveries = pd.read_csv(url_recoveries)\n",
    "latest = pd.read_csv(url_latest)\n",
    "us_medical = pd.read_csv(url_us_medical)\n",
    "# Print data\n",
    "confirmed.head()\n",
    "deaths.head()\n",
    "recoveries.head()\n",
    "latest.head()\n",
    "us_medical.head()"
   ]
  },
  {
   "cell_type": "code",
   "execution_count": 19,
   "id": "f59fd9ee",
   "metadata": {},
   "outputs": [
    {
     "data": {
      "application/vnd.microsoft.datawrangler.viewer.v0+json": {
       "columns": [
        {
         "name": "index",
         "rawType": "int64",
         "type": "integer"
        },
        {
         "name": "index",
         "rawType": "int64",
         "type": "integer"
        },
        {
         "name": "Date",
         "rawType": "object",
         "type": "string"
        },
        {
         "name": "Confirmed",
         "rawType": "int64",
         "type": "integer"
        },
        {
         "name": "Deaths",
         "rawType": "int64",
         "type": "integer"
        },
        {
         "name": "Recovered",
         "rawType": "int64",
         "type": "integer"
        },
        {
         "name": "Active",
         "rawType": "int64",
         "type": "integer"
        }
       ],
       "ref": "26f8403c-0269-4c9c-9abd-e07bb5ac8919",
       "rows": [
        [
         "0",
         "0",
         "1/22/20",
         "557",
         "17",
         "30",
         "510"
        ],
        [
         "1",
         "1",
         "1/23/20",
         "657",
         "18",
         "32",
         "607"
        ],
        [
         "2",
         "2",
         "1/24/20",
         "944",
         "26",
         "39",
         "879"
        ],
        [
         "3",
         "3",
         "1/25/20",
         "1437",
         "42",
         "42",
         "1353"
        ],
        [
         "4",
         "4",
         "1/26/20",
         "2120",
         "56",
         "56",
         "2008"
        ]
       ],
       "shape": {
        "columns": 6,
        "rows": 5
       }
      },
      "text/html": [
       "<div>\n",
       "<style scoped>\n",
       "    .dataframe tbody tr th:only-of-type {\n",
       "        vertical-align: middle;\n",
       "    }\n",
       "\n",
       "    .dataframe tbody tr th {\n",
       "        vertical-align: top;\n",
       "    }\n",
       "\n",
       "    .dataframe thead th {\n",
       "        text-align: right;\n",
       "    }\n",
       "</style>\n",
       "<table border=\"1\" class=\"dataframe\">\n",
       "  <thead>\n",
       "    <tr style=\"text-align: right;\">\n",
       "      <th></th>\n",
       "      <th>index</th>\n",
       "      <th>Date</th>\n",
       "      <th>Confirmed</th>\n",
       "      <th>Deaths</th>\n",
       "      <th>Recovered</th>\n",
       "      <th>Active</th>\n",
       "    </tr>\n",
       "  </thead>\n",
       "  <tbody>\n",
       "    <tr>\n",
       "      <th>0</th>\n",
       "      <td>0</td>\n",
       "      <td>1/22/20</td>\n",
       "      <td>557</td>\n",
       "      <td>17</td>\n",
       "      <td>30</td>\n",
       "      <td>510</td>\n",
       "    </tr>\n",
       "    <tr>\n",
       "      <th>1</th>\n",
       "      <td>1</td>\n",
       "      <td>1/23/20</td>\n",
       "      <td>657</td>\n",
       "      <td>18</td>\n",
       "      <td>32</td>\n",
       "      <td>607</td>\n",
       "    </tr>\n",
       "    <tr>\n",
       "      <th>2</th>\n",
       "      <td>2</td>\n",
       "      <td>1/24/20</td>\n",
       "      <td>944</td>\n",
       "      <td>26</td>\n",
       "      <td>39</td>\n",
       "      <td>879</td>\n",
       "    </tr>\n",
       "    <tr>\n",
       "      <th>3</th>\n",
       "      <td>3</td>\n",
       "      <td>1/25/20</td>\n",
       "      <td>1437</td>\n",
       "      <td>42</td>\n",
       "      <td>42</td>\n",
       "      <td>1353</td>\n",
       "    </tr>\n",
       "    <tr>\n",
       "      <th>4</th>\n",
       "      <td>4</td>\n",
       "      <td>1/26/20</td>\n",
       "      <td>2120</td>\n",
       "      <td>56</td>\n",
       "      <td>56</td>\n",
       "      <td>2008</td>\n",
       "    </tr>\n",
       "  </tbody>\n",
       "</table>\n",
       "</div>"
      ],
      "text/plain": [
       "   index     Date  Confirmed  Deaths  Recovered  Active\n",
       "0      0  1/22/20        557      17         30     510\n",
       "1      1  1/23/20        657      18         32     607\n",
       "2      2  1/24/20        944      26         39     879\n",
       "3      3  1/25/20       1437      42         42    1353\n",
       "4      4  1/26/20       2120      56         56    2008"
      ]
     },
     "execution_count": 19,
     "metadata": {},
     "output_type": "execute_result"
    }
   ],
   "source": [
    "\n",
    "# Lấy danh sách các cột ngày (bỏ qua các cột thông tin địa lý)\n",
    "date_columns = confirmed.columns[4:]\n",
    "\n",
    "# Tổng hợp dữ liệu toàn cầu theo từng ngày\n",
    "df = pd.DataFrame()\n",
    "df['Date'] = date_columns\n",
    "df['Confirmed'] = confirmed[date_columns].sum(axis=0).values\n",
    "df['Deaths'] = deaths[date_columns].sum(axis=0).values\n",
    "df['Recovered'] = recoveries[date_columns].sum(axis=0).values\n",
    "df['Active'] = df['Confirmed'] - df['Deaths'] - df['Recovered']\n",
    "\n",
    "# Hiển thị bảng dữ liệu\n",
    "df.reset_index(inplace=True)\n",
    "df.head()"
   ]
  },
  {
   "cell_type": "markdown",
   "id": "b97ffed3",
   "metadata": {},
   "source": [
    "**Tree Map**"
   ]
  },
  {
   "cell_type": "code",
   "execution_count": 20,
   "id": "a952d80f",
   "metadata": {},
   "outputs": [
    {
     "data": {
      "application/vnd.plotly.v1+json": {
       "config": {
        "plotlyServerURL": "https://plot.ly"
       },
       "data": [
        {
         "branchvalues": "total",
         "domain": {
          "x": [
           0,
           1
          ],
          "y": [
           0,
           1
          ]
         },
         "hovertemplate": "labels=%{label}<br>Value=%{value}<br>parent=%{parent}<br>id=%{id}<extra></extra>",
         "ids": [
          "Afghanistan<br>0<br>0%",
          "Albania<br>14<br>0%",
          "Algeria<br>2<br>0%",
          "Andorra<br>0<br>0%",
          "Angola<br>0<br>0%",
          "Antarctica<br>0<br>0%",
          "Antigua and Barbuda<br>0<br>0%",
          "Argentina<br>0<br>0%",
          "Armenia<br>0<br>0%",
          "Australia<br>13,926<br>8%",
          "Austria<br>5,283<br>3%",
          "Azerbaijan<br>6<br>0%",
          "Bahamas<br>0<br>0%",
          "Bahrain<br>387<br>0%",
          "Bangladesh<br>0<br>0%",
          "Barbados<br>153<br>0%",
          "Belarus<br>0<br>0%",
          "Belgium<br>11,570<br>7%",
          "Belize<br>0<br>0%",
          "Benin<br>0<br>0%",
          "Bhutan<br>0<br>0%",
          "Bolivia<br>90<br>0%",
          "Bosnia and Herzegovina<br>0<br>0%",
          "Botswana<br>0<br>0%",
          "Brazil<br>0<br>0%",
          "Brunei<br>0<br>0%",
          "Bulgaria<br>72<br>0%",
          "Burkina Faso<br>0<br>0%",
          "Burma<br>1<br>0%",
          "Burundi<br>0<br>0%",
          "Cabo Verde<br>0<br>0%",
          "Cambodia<br>0<br>0%",
          "Cameroon<br>0<br>0%",
          "Canada<br>4,041<br>2%",
          "Central African Republic<br>0<br>0%",
          "Chad<br>0<br>0%",
          "Chile<br>3,906<br>2%",
          "China<br>0<br>0%",
          "Colombia<br>0<br>0%",
          "Comoros<br>0<br>0%",
          "Congo (Brazzaville)<br>0<br>0%",
          "Congo (Kinshasa)<br>0<br>0%",
          "Costa Rica<br>0<br>0%",
          "Cote d'Ivoire<br>8<br>0%",
          "Croatia<br>0<br>0%",
          "Cuba<br>6<br>0%",
          "Cyprus<br>0<br>0%",
          "Czechia<br>1,142<br>1%",
          "Denmark<br>139<br>0%",
          "Diamond Princess<br>0<br>0%",
          "Djibouti<br>0<br>0%",
          "Dominica<br>0<br>0%",
          "Dominican Republic<br>0<br>0%",
          "Ecuador<br>0<br>0%",
          "Egypt<br>0<br>0%",
          "El Salvador<br>0<br>0%",
          "Equatorial Guinea<br>0<br>0%",
          "Eritrea<br>0<br>0%",
          "Estonia<br>0<br>0%",
          "Eswatini<br>0<br>0%",
          "Ethiopia<br>14<br>0%",
          "Fiji<br>1<br>0%",
          "Finland<br>668<br>0%",
          "France<br>6,308<br>4%",
          "Gabon<br>0<br>0%",
          "Gambia<br>0<br>0%",
          "Georgia<br>0<br>0%",
          "Germany<br>7,829<br>4%",
          "Ghana<br>0<br>0%",
          "Greece<br>0<br>0%",
          "Grenada<br>0<br>0%",
          "Guatemala<br>198<br>0%",
          "Guinea<br>0<br>0%",
          "Guinea-Bissau<br>0<br>0%",
          "Guyana<br>0<br>0%",
          "Haiti<br>0<br>0%",
          "Holy See<br>0<br>0%",
          "Honduras<br>0<br>0%",
          "Hungary<br>0<br>0%",
          "Iceland<br>0<br>0%",
          "India<br>440<br>0%",
          "Indonesia<br>307<br>0%",
          "Iran<br>315<br>0%",
          "Iraq<br>0<br>0%",
          "Ireland<br>0<br>0%",
          "Israel<br>660<br>0%",
          "Italy<br>0<br>0%",
          "Jamaica<br>129<br>0%",
          "Japan<br>9,834<br>6%",
          "Jordan<br>0<br>0%",
          "Kazakhstan<br>0<br>0%",
          "Kenya<br>0<br>0%",
          "Kiribati<br>0<br>0%",
          "Korea, North<br>0<br>0%",
          "Korea, South<br>10,335<br>6%",
          "Kosovo<br>21<br>0%",
          "Kuwait<br>0<br>0%",
          "Kyrgyzstan<br>0<br>0%",
          "Laos<br>0<br>0%",
          "Latvia<br>27<br>0%",
          "Lebanon<br>179<br>0%",
          "Lesotho<br>0<br>0%",
          "Liberia<br>0<br>0%",
          "Libya<br>0<br>0%",
          "Liechtenstein<br>0<br>0%",
          "Lithuania<br>0<br>0%",
          "Luxembourg<br>0<br>0%",
          "MS Zaandam<br>0<br>0%",
          "Madagascar<br>0<br>0%",
          "Malawi<br>0<br>0%",
          "Malaysia<br>279<br>0%",
          "Maldives<br>0<br>0%",
          "Mali<br>1<br>0%",
          "Malta<br>0<br>0%",
          "Marshall Islands<br>0<br>0%",
          "Mauritania<br>0<br>0%",
          "Mauritius<br>0<br>0%",
          "Mexico<br>3,809<br>2%",
          "Micronesia<br>0<br>0%",
          "Moldova<br>0<br>0%",
          "Monaco<br>0<br>0%",
          "Mongolia<br>0<br>0%",
          "Montenegro<br>56<br>0%",
          "Morocco<br>0<br>0%",
          "Mozambique<br>0<br>0%",
          "Namibia<br>0<br>0%",
          "Nauru<br>0<br>0%",
          "Nepal<br>4<br>0%",
          "Netherlands<br>0<br>0%",
          "New Zealand<br>1<br>0%",
          "Nicaragua<br>0<br>0%",
          "Niger<br>0<br>0%",
          "Nigeria<br>0<br>0%",
          "North Macedonia<br>0<br>0%",
          "Norway<br>53<br>0%",
          "Oman<br>0<br>0%",
          "Pakistan<br>73<br>0%",
          "Palau<br>0<br>0%",
          "Panama<br>0<br>0%",
          "Papua New Guinea<br>0<br>0%",
          "Paraguay<br>0<br>0%",
          "Peru<br>0<br>0%",
          "Philippines<br>150<br>0%",
          "Poland<br>3,459<br>2%",
          "Portugal<br>0<br>0%",
          "Qatar<br>108<br>0%",
          "Romania<br>0<br>0%",
          "Russia<br>12,385<br>7%",
          "Rwanda<br>0<br>0%",
          "Saint Kitts and Nevis<br>0<br>0%",
          "Saint Lucia<br>0<br>0%",
          "Saint Vincent and the Grenadines<br>0<br>0%",
          "Samoa<br>0<br>0%",
          "San Marino<br>0<br>0%",
          "Sao Tome and Principe<br>0<br>0%",
          "Saudi Arabia<br>83<br>0%",
          "Senegal<br>0<br>0%",
          "Serbia<br>873<br>0%",
          "Seychelles<br>0<br>0%",
          "Sierra Leone<br>0<br>0%",
          "Singapore<br>0<br>0%",
          "Slovakia<br>262<br>0%",
          "Slovenia<br>511<br>0%",
          "Solomon Islands<br>0<br>0%",
          "Somalia<br>0<br>0%",
          "South Africa<br>426<br>0%",
          "South Sudan<br>0<br>0%",
          "Spain<br>0<br>0%",
          "Sri Lanka<br>2<br>0%",
          "Sudan<br>0<br>0%",
          "Summer Olympics 2020<br>0<br>0%",
          "Suriname<br>0<br>0%",
          "Sweden<br>804<br>0%",
          "Switzerland<br>0<br>0%",
          "Syria<br>0<br>0%",
          "Taiwan*<br>0<br>0%",
          "Tajikistan<br>0<br>0%",
          "Tanzania<br>0<br>0%",
          "Thailand<br>0<br>0%",
          "Timor-Leste<br>0<br>0%",
          "Togo<br>0<br>0%",
          "Tonga<br>0<br>0%",
          "Trinidad and Tobago<br>0<br>0%",
          "Tunisia<br>0<br>0%",
          "Turkey<br>0<br>0%",
          "Tuvalu<br>0<br>0%",
          "US<br>46,931<br>26%",
          "Uganda<br>0<br>0%",
          "Ukraine<br>111<br>0%",
          "United Arab Emirates<br>145<br>0%",
          "United Kingdom<br>28,783<br>16%",
          "Uruguay<br>0<br>0%",
          "Uzbekistan<br>0<br>0%",
          "Vanuatu<br>0<br>0%",
          "Venezuela<br>5<br>0%",
          "Vietnam<br>0<br>0%",
          "West Bank and Gaza<br>0<br>0%",
          "Winter Olympics 2022<br>0<br>0%",
          "Yemen<br>0<br>0%",
          "Zambia<br>0<br>0%",
          "Zimbabwe<br>0<br>0%"
         ],
         "labels": [
          "Afghanistan<br>0<br>0%",
          "Albania<br>14<br>0%",
          "Algeria<br>2<br>0%",
          "Andorra<br>0<br>0%",
          "Angola<br>0<br>0%",
          "Antarctica<br>0<br>0%",
          "Antigua and Barbuda<br>0<br>0%",
          "Argentina<br>0<br>0%",
          "Armenia<br>0<br>0%",
          "Australia<br>13,926<br>8%",
          "Austria<br>5,283<br>3%",
          "Azerbaijan<br>6<br>0%",
          "Bahamas<br>0<br>0%",
          "Bahrain<br>387<br>0%",
          "Bangladesh<br>0<br>0%",
          "Barbados<br>153<br>0%",
          "Belarus<br>0<br>0%",
          "Belgium<br>11,570<br>7%",
          "Belize<br>0<br>0%",
          "Benin<br>0<br>0%",
          "Bhutan<br>0<br>0%",
          "Bolivia<br>90<br>0%",
          "Bosnia and Herzegovina<br>0<br>0%",
          "Botswana<br>0<br>0%",
          "Brazil<br>0<br>0%",
          "Brunei<br>0<br>0%",
          "Bulgaria<br>72<br>0%",
          "Burkina Faso<br>0<br>0%",
          "Burma<br>1<br>0%",
          "Burundi<br>0<br>0%",
          "Cabo Verde<br>0<br>0%",
          "Cambodia<br>0<br>0%",
          "Cameroon<br>0<br>0%",
          "Canada<br>4,041<br>2%",
          "Central African Republic<br>0<br>0%",
          "Chad<br>0<br>0%",
          "Chile<br>3,906<br>2%",
          "China<br>0<br>0%",
          "Colombia<br>0<br>0%",
          "Comoros<br>0<br>0%",
          "Congo (Brazzaville)<br>0<br>0%",
          "Congo (Kinshasa)<br>0<br>0%",
          "Costa Rica<br>0<br>0%",
          "Cote d'Ivoire<br>8<br>0%",
          "Croatia<br>0<br>0%",
          "Cuba<br>6<br>0%",
          "Cyprus<br>0<br>0%",
          "Czechia<br>1,142<br>1%",
          "Denmark<br>139<br>0%",
          "Diamond Princess<br>0<br>0%",
          "Djibouti<br>0<br>0%",
          "Dominica<br>0<br>0%",
          "Dominican Republic<br>0<br>0%",
          "Ecuador<br>0<br>0%",
          "Egypt<br>0<br>0%",
          "El Salvador<br>0<br>0%",
          "Equatorial Guinea<br>0<br>0%",
          "Eritrea<br>0<br>0%",
          "Estonia<br>0<br>0%",
          "Eswatini<br>0<br>0%",
          "Ethiopia<br>14<br>0%",
          "Fiji<br>1<br>0%",
          "Finland<br>668<br>0%",
          "France<br>6,308<br>4%",
          "Gabon<br>0<br>0%",
          "Gambia<br>0<br>0%",
          "Georgia<br>0<br>0%",
          "Germany<br>7,829<br>4%",
          "Ghana<br>0<br>0%",
          "Greece<br>0<br>0%",
          "Grenada<br>0<br>0%",
          "Guatemala<br>198<br>0%",
          "Guinea<br>0<br>0%",
          "Guinea-Bissau<br>0<br>0%",
          "Guyana<br>0<br>0%",
          "Haiti<br>0<br>0%",
          "Holy See<br>0<br>0%",
          "Honduras<br>0<br>0%",
          "Hungary<br>0<br>0%",
          "Iceland<br>0<br>0%",
          "India<br>440<br>0%",
          "Indonesia<br>307<br>0%",
          "Iran<br>315<br>0%",
          "Iraq<br>0<br>0%",
          "Ireland<br>0<br>0%",
          "Israel<br>660<br>0%",
          "Italy<br>0<br>0%",
          "Jamaica<br>129<br>0%",
          "Japan<br>9,834<br>6%",
          "Jordan<br>0<br>0%",
          "Kazakhstan<br>0<br>0%",
          "Kenya<br>0<br>0%",
          "Kiribati<br>0<br>0%",
          "Korea, North<br>0<br>0%",
          "Korea, South<br>10,335<br>6%",
          "Kosovo<br>21<br>0%",
          "Kuwait<br>0<br>0%",
          "Kyrgyzstan<br>0<br>0%",
          "Laos<br>0<br>0%",
          "Latvia<br>27<br>0%",
          "Lebanon<br>179<br>0%",
          "Lesotho<br>0<br>0%",
          "Liberia<br>0<br>0%",
          "Libya<br>0<br>0%",
          "Liechtenstein<br>0<br>0%",
          "Lithuania<br>0<br>0%",
          "Luxembourg<br>0<br>0%",
          "MS Zaandam<br>0<br>0%",
          "Madagascar<br>0<br>0%",
          "Malawi<br>0<br>0%",
          "Malaysia<br>279<br>0%",
          "Maldives<br>0<br>0%",
          "Mali<br>1<br>0%",
          "Malta<br>0<br>0%",
          "Marshall Islands<br>0<br>0%",
          "Mauritania<br>0<br>0%",
          "Mauritius<br>0<br>0%",
          "Mexico<br>3,809<br>2%",
          "Micronesia<br>0<br>0%",
          "Moldova<br>0<br>0%",
          "Monaco<br>0<br>0%",
          "Mongolia<br>0<br>0%",
          "Montenegro<br>56<br>0%",
          "Morocco<br>0<br>0%",
          "Mozambique<br>0<br>0%",
          "Namibia<br>0<br>0%",
          "Nauru<br>0<br>0%",
          "Nepal<br>4<br>0%",
          "Netherlands<br>0<br>0%",
          "New Zealand<br>1<br>0%",
          "Nicaragua<br>0<br>0%",
          "Niger<br>0<br>0%",
          "Nigeria<br>0<br>0%",
          "North Macedonia<br>0<br>0%",
          "Norway<br>53<br>0%",
          "Oman<br>0<br>0%",
          "Pakistan<br>73<br>0%",
          "Palau<br>0<br>0%",
          "Panama<br>0<br>0%",
          "Papua New Guinea<br>0<br>0%",
          "Paraguay<br>0<br>0%",
          "Peru<br>0<br>0%",
          "Philippines<br>150<br>0%",
          "Poland<br>3,459<br>2%",
          "Portugal<br>0<br>0%",
          "Qatar<br>108<br>0%",
          "Romania<br>0<br>0%",
          "Russia<br>12,385<br>7%",
          "Rwanda<br>0<br>0%",
          "Saint Kitts and Nevis<br>0<br>0%",
          "Saint Lucia<br>0<br>0%",
          "Saint Vincent and the Grenadines<br>0<br>0%",
          "Samoa<br>0<br>0%",
          "San Marino<br>0<br>0%",
          "Sao Tome and Principe<br>0<br>0%",
          "Saudi Arabia<br>83<br>0%",
          "Senegal<br>0<br>0%",
          "Serbia<br>873<br>0%",
          "Seychelles<br>0<br>0%",
          "Sierra Leone<br>0<br>0%",
          "Singapore<br>0<br>0%",
          "Slovakia<br>262<br>0%",
          "Slovenia<br>511<br>0%",
          "Solomon Islands<br>0<br>0%",
          "Somalia<br>0<br>0%",
          "South Africa<br>426<br>0%",
          "South Sudan<br>0<br>0%",
          "Spain<br>0<br>0%",
          "Sri Lanka<br>2<br>0%",
          "Sudan<br>0<br>0%",
          "Summer Olympics 2020<br>0<br>0%",
          "Suriname<br>0<br>0%",
          "Sweden<br>804<br>0%",
          "Switzerland<br>0<br>0%",
          "Syria<br>0<br>0%",
          "Taiwan*<br>0<br>0%",
          "Tajikistan<br>0<br>0%",
          "Tanzania<br>0<br>0%",
          "Thailand<br>0<br>0%",
          "Timor-Leste<br>0<br>0%",
          "Togo<br>0<br>0%",
          "Tonga<br>0<br>0%",
          "Trinidad and Tobago<br>0<br>0%",
          "Tunisia<br>0<br>0%",
          "Turkey<br>0<br>0%",
          "Tuvalu<br>0<br>0%",
          "US<br>46,931<br>26%",
          "Uganda<br>0<br>0%",
          "Ukraine<br>111<br>0%",
          "United Arab Emirates<br>145<br>0%",
          "United Kingdom<br>28,783<br>16%",
          "Uruguay<br>0<br>0%",
          "Uzbekistan<br>0<br>0%",
          "Vanuatu<br>0<br>0%",
          "Venezuela<br>5<br>0%",
          "Vietnam<br>0<br>0%",
          "West Bank and Gaza<br>0<br>0%",
          "Winter Olympics 2022<br>0<br>0%",
          "Yemen<br>0<br>0%",
          "Zambia<br>0<br>0%",
          "Zimbabwe<br>0<br>0%"
         ],
         "name": "",
         "parents": [
          "",
          "",
          "",
          "",
          "",
          "",
          "",
          "",
          "",
          "",
          "",
          "",
          "",
          "",
          "",
          "",
          "",
          "",
          "",
          "",
          "",
          "",
          "",
          "",
          "",
          "",
          "",
          "",
          "",
          "",
          "",
          "",
          "",
          "",
          "",
          "",
          "",
          "",
          "",
          "",
          "",
          "",
          "",
          "",
          "",
          "",
          "",
          "",
          "",
          "",
          "",
          "",
          "",
          "",
          "",
          "",
          "",
          "",
          "",
          "",
          "",
          "",
          "",
          "",
          "",
          "",
          "",
          "",
          "",
          "",
          "",
          "",
          "",
          "",
          "",
          "",
          "",
          "",
          "",
          "",
          "",
          "",
          "",
          "",
          "",
          "",
          "",
          "",
          "",
          "",
          "",
          "",
          "",
          "",
          "",
          "",
          "",
          "",
          "",
          "",
          "",
          "",
          "",
          "",
          "",
          "",
          "",
          "",
          "",
          "",
          "",
          "",
          "",
          "",
          "",
          "",
          "",
          "",
          "",
          "",
          "",
          "",
          "",
          "",
          "",
          "",
          "",
          "",
          "",
          "",
          "",
          "",
          "",
          "",
          "",
          "",
          "",
          "",
          "",
          "",
          "",
          "",
          "",
          "",
          "",
          "",
          "",
          "",
          "",
          "",
          "",
          "",
          "",
          "",
          "",
          "",
          "",
          "",
          "",
          "",
          "",
          "",
          "",
          "",
          "",
          "",
          "",
          "",
          "",
          "",
          "",
          "",
          "",
          "",
          "",
          "",
          "",
          "",
          "",
          "",
          "",
          "",
          "",
          "",
          "",
          "",
          "",
          "",
          "",
          "",
          "",
          "",
          "",
          "",
          "",
          "",
          "",
          "",
          "",
          "",
          ""
         ],
         "type": "treemap",
         "values": {
          "bdata": "AAAAAAAAAAAAAAAAAAAsQAAAAAAAAABAAAAAAAAAAAAAAAAAAAAAAAAAAAAAAAAAAAAAAAAAAAAAAAAAAAAAAAAAAAAAAAAAAAAAAAAzy0AAAAAAAKO0QAAAAAAAABhAAAAAAAAAAAAAAAAAADB4QAAAAAAAAAAAAAAAAAAgY0AAAAAAAAAAAAAAAAAAmcZAAAAAAAAAAAAAAAAAAAAAAAAAAAAAAAAAAAAAAACAVkAAAAAAAAAAAAAAAAAAAAAAAAAAAAAAAAAAAAAAAAAAAAAAAAAAAFJAAAAAAAAAAAAAAAAAAADwPwAAAAAAAAAAAAAAAAAAAAAAAAAAAAAAAAAAAAAAAAAAAAAAAACSr0AAAAAAAAAAAAAAAAAAAAAAAAAAAACErkAAAAAAAAAAAAAAAAAAAAAAAAAAAAAAAAAAAAAAAAAAAAAAAAAAAAAAAAAAAAAAAAAAAAAAAAAgQAAAAAAAAAAAAAAAAAAAGEAAAAAAAAAAAAAAAAAA2JFAAAAAAABgYUAAAAAAAAAAAAAAAAAAAAAAAAAAAAAAAAAAAAAAAAAAAAAAAAAAAAAAAAAAAAAAAAAAAAAAAAAAAAAAAAAAAAAAAAAAAAAAAAAAAAAAAAAAAAAAAAAAAAAAAAAAAAAALEAAAAAAAADwPwAAAAAA4IRAAAAAAACkuEAAAAAAAAAAAAAAAAAAAAAAAAAAAAAAAAAAAAAAAJW+QAAAAAAAAAAAAAAAAAAAAAAAAAAAAAAAAAAAAAAAwGhAAAAAAAAAAAAAAAAAAAAAAAAAAAAAAAAAAAAAAAAAAAAAAAAAAAAAAAAAAAAAAAAAAAAAAAAAAAAAAAAAAAAAAAAAAAAAgHtAAAAAAAAwc0AAAAAAALBzQAAAAAAAAAAAAAAAAAAAAAAAAAAAAKCEQAAAAAAAAAAAAAAAAAAgYEAAAAAAADXDQAAAAAAAAAAAAAAAAAAAAAAAAAAAAAAAAAAAAAAAAAAAAAAAAAAAAAAAAAAAgC/EQAAAAAAAADVAAAAAAAAAAAAAAAAAAAAAAAAAAAAAAAAAAAAAAAAAO0AAAAAAAGBmQAAAAAAAAAAAAAAAAAAAAAAAAAAAAAAAAAAAAAAAAAAAAAAAAAAAAAAAAAAAAAAAAAAAAAAAAAAAAAAAAAAAAAAAAAAAAAAAAAAAAAAAcHFAAAAAAAAAAAAAAAAAAADwPwAAAAAAAAAAAAAAAAAAAAAAAAAAAAAAAAAAAAAAAAAAAAAAAADCrUAAAAAAAAAAAAAAAAAAAAAAAAAAAAAAAAAAAAAAAAAAAAAAAAAAAExAAAAAAAAAAAAAAAAAAAAAAAAAAAAAAAAAAAAAAAAAAAAAAAAAAAAQQAAAAAAAAAAAAAAAAAAA8D8AAAAAAAAAAAAAAAAAAAAAAAAAAAAAAAAAAAAAAAAAAAAAAAAAgEpAAAAAAAAAAAAAAAAAAEBSQAAAAAAAAAAAAAAAAAAAAAAAAAAAAAAAAAAAAAAAAAAAAAAAAAAAAAAAAAAAAMBiQAAAAAAABqtAAAAAAAAAAAAAAAAAAABbQAAAAAAAAAAAAAAAAIAwyEAAAAAAAAAAAAAAAAAAAAAAAAAAAAAAAAAAAAAAAAAAAAAAAAAAAAAAAAAAAAAAAAAAAAAAAAAAAAAAAAAAwFRAAAAAAAAAAAAAAAAAAEiLQAAAAAAAAAAAAAAAAAAAAAAAAAAAAAAAAAAAAAAAYHBAAAAAAADwf0AAAAAAAAAAAAAAAAAAAAAAAAAAAACgekAAAAAAAAAAAAAAAAAAAAAAAAAAAAAAAEAAAAAAAAAAAAAAAAAAAAAAAAAAAAAAAAAAAAAAACCJQAAAAAAAAAAAAAAAAAAAAAAAAAAAAAAAAAAAAAAAAAAAAAAAAAAAAAAAAAAAAAAAAAAAAAAAAAAAAAAAAAAAAAAAAAAAAAAAAAAAAAAAAAAAAAAAAAAAAAAAAAAAAAAAAAAAAAAAAAAAAAAAAGDq5kAAAAAAAAAAAAAAAAAAwFtAAAAAAAAgYkAAAAAAwBvcQAAAAAAAAAAAAAAAAAAAAAAAAAAAAAAAAAAAAAAAABRAAAAAAAAAAAAAAAAAAAAAAAAAAAAAAAAAAAAAAAAAAAAAAAAAAAAAAAAAAAAAAAAA",
          "dtype": "f8"
         }
        }
       ],
       "layout": {
        "legend": {
         "tracegroupgap": 0
        },
        "template": {
         "data": {
          "bar": [
           {
            "error_x": {
             "color": "#2a3f5f"
            },
            "error_y": {
             "color": "#2a3f5f"
            },
            "marker": {
             "line": {
              "color": "#E5ECF6",
              "width": 0.5
             },
             "pattern": {
              "fillmode": "overlay",
              "size": 10,
              "solidity": 0.2
             }
            },
            "type": "bar"
           }
          ],
          "barpolar": [
           {
            "marker": {
             "line": {
              "color": "#E5ECF6",
              "width": 0.5
             },
             "pattern": {
              "fillmode": "overlay",
              "size": 10,
              "solidity": 0.2
             }
            },
            "type": "barpolar"
           }
          ],
          "carpet": [
           {
            "aaxis": {
             "endlinecolor": "#2a3f5f",
             "gridcolor": "white",
             "linecolor": "white",
             "minorgridcolor": "white",
             "startlinecolor": "#2a3f5f"
            },
            "baxis": {
             "endlinecolor": "#2a3f5f",
             "gridcolor": "white",
             "linecolor": "white",
             "minorgridcolor": "white",
             "startlinecolor": "#2a3f5f"
            },
            "type": "carpet"
           }
          ],
          "choropleth": [
           {
            "colorbar": {
             "outlinewidth": 0,
             "ticks": ""
            },
            "type": "choropleth"
           }
          ],
          "contour": [
           {
            "colorbar": {
             "outlinewidth": 0,
             "ticks": ""
            },
            "colorscale": [
             [
              0,
              "#0d0887"
             ],
             [
              0.1111111111111111,
              "#46039f"
             ],
             [
              0.2222222222222222,
              "#7201a8"
             ],
             [
              0.3333333333333333,
              "#9c179e"
             ],
             [
              0.4444444444444444,
              "#bd3786"
             ],
             [
              0.5555555555555556,
              "#d8576b"
             ],
             [
              0.6666666666666666,
              "#ed7953"
             ],
             [
              0.7777777777777778,
              "#fb9f3a"
             ],
             [
              0.8888888888888888,
              "#fdca26"
             ],
             [
              1,
              "#f0f921"
             ]
            ],
            "type": "contour"
           }
          ],
          "contourcarpet": [
           {
            "colorbar": {
             "outlinewidth": 0,
             "ticks": ""
            },
            "type": "contourcarpet"
           }
          ],
          "heatmap": [
           {
            "colorbar": {
             "outlinewidth": 0,
             "ticks": ""
            },
            "colorscale": [
             [
              0,
              "#0d0887"
             ],
             [
              0.1111111111111111,
              "#46039f"
             ],
             [
              0.2222222222222222,
              "#7201a8"
             ],
             [
              0.3333333333333333,
              "#9c179e"
             ],
             [
              0.4444444444444444,
              "#bd3786"
             ],
             [
              0.5555555555555556,
              "#d8576b"
             ],
             [
              0.6666666666666666,
              "#ed7953"
             ],
             [
              0.7777777777777778,
              "#fb9f3a"
             ],
             [
              0.8888888888888888,
              "#fdca26"
             ],
             [
              1,
              "#f0f921"
             ]
            ],
            "type": "heatmap"
           }
          ],
          "histogram": [
           {
            "marker": {
             "pattern": {
              "fillmode": "overlay",
              "size": 10,
              "solidity": 0.2
             }
            },
            "type": "histogram"
           }
          ],
          "histogram2d": [
           {
            "colorbar": {
             "outlinewidth": 0,
             "ticks": ""
            },
            "colorscale": [
             [
              0,
              "#0d0887"
             ],
             [
              0.1111111111111111,
              "#46039f"
             ],
             [
              0.2222222222222222,
              "#7201a8"
             ],
             [
              0.3333333333333333,
              "#9c179e"
             ],
             [
              0.4444444444444444,
              "#bd3786"
             ],
             [
              0.5555555555555556,
              "#d8576b"
             ],
             [
              0.6666666666666666,
              "#ed7953"
             ],
             [
              0.7777777777777778,
              "#fb9f3a"
             ],
             [
              0.8888888888888888,
              "#fdca26"
             ],
             [
              1,
              "#f0f921"
             ]
            ],
            "type": "histogram2d"
           }
          ],
          "histogram2dcontour": [
           {
            "colorbar": {
             "outlinewidth": 0,
             "ticks": ""
            },
            "colorscale": [
             [
              0,
              "#0d0887"
             ],
             [
              0.1111111111111111,
              "#46039f"
             ],
             [
              0.2222222222222222,
              "#7201a8"
             ],
             [
              0.3333333333333333,
              "#9c179e"
             ],
             [
              0.4444444444444444,
              "#bd3786"
             ],
             [
              0.5555555555555556,
              "#d8576b"
             ],
             [
              0.6666666666666666,
              "#ed7953"
             ],
             [
              0.7777777777777778,
              "#fb9f3a"
             ],
             [
              0.8888888888888888,
              "#fdca26"
             ],
             [
              1,
              "#f0f921"
             ]
            ],
            "type": "histogram2dcontour"
           }
          ],
          "mesh3d": [
           {
            "colorbar": {
             "outlinewidth": 0,
             "ticks": ""
            },
            "type": "mesh3d"
           }
          ],
          "parcoords": [
           {
            "line": {
             "colorbar": {
              "outlinewidth": 0,
              "ticks": ""
             }
            },
            "type": "parcoords"
           }
          ],
          "pie": [
           {
            "automargin": true,
            "type": "pie"
           }
          ],
          "scatter": [
           {
            "fillpattern": {
             "fillmode": "overlay",
             "size": 10,
             "solidity": 0.2
            },
            "type": "scatter"
           }
          ],
          "scatter3d": [
           {
            "line": {
             "colorbar": {
              "outlinewidth": 0,
              "ticks": ""
             }
            },
            "marker": {
             "colorbar": {
              "outlinewidth": 0,
              "ticks": ""
             }
            },
            "type": "scatter3d"
           }
          ],
          "scattercarpet": [
           {
            "marker": {
             "colorbar": {
              "outlinewidth": 0,
              "ticks": ""
             }
            },
            "type": "scattercarpet"
           }
          ],
          "scattergeo": [
           {
            "marker": {
             "colorbar": {
              "outlinewidth": 0,
              "ticks": ""
             }
            },
            "type": "scattergeo"
           }
          ],
          "scattergl": [
           {
            "marker": {
             "colorbar": {
              "outlinewidth": 0,
              "ticks": ""
             }
            },
            "type": "scattergl"
           }
          ],
          "scattermap": [
           {
            "marker": {
             "colorbar": {
              "outlinewidth": 0,
              "ticks": ""
             }
            },
            "type": "scattermap"
           }
          ],
          "scattermapbox": [
           {
            "marker": {
             "colorbar": {
              "outlinewidth": 0,
              "ticks": ""
             }
            },
            "type": "scattermapbox"
           }
          ],
          "scatterpolar": [
           {
            "marker": {
             "colorbar": {
              "outlinewidth": 0,
              "ticks": ""
             }
            },
            "type": "scatterpolar"
           }
          ],
          "scatterpolargl": [
           {
            "marker": {
             "colorbar": {
              "outlinewidth": 0,
              "ticks": ""
             }
            },
            "type": "scatterpolargl"
           }
          ],
          "scatterternary": [
           {
            "marker": {
             "colorbar": {
              "outlinewidth": 0,
              "ticks": ""
             }
            },
            "type": "scatterternary"
           }
          ],
          "surface": [
           {
            "colorbar": {
             "outlinewidth": 0,
             "ticks": ""
            },
            "colorscale": [
             [
              0,
              "#0d0887"
             ],
             [
              0.1111111111111111,
              "#46039f"
             ],
             [
              0.2222222222222222,
              "#7201a8"
             ],
             [
              0.3333333333333333,
              "#9c179e"
             ],
             [
              0.4444444444444444,
              "#bd3786"
             ],
             [
              0.5555555555555556,
              "#d8576b"
             ],
             [
              0.6666666666666666,
              "#ed7953"
             ],
             [
              0.7777777777777778,
              "#fb9f3a"
             ],
             [
              0.8888888888888888,
              "#fdca26"
             ],
             [
              1,
              "#f0f921"
             ]
            ],
            "type": "surface"
           }
          ],
          "table": [
           {
            "cells": {
             "fill": {
              "color": "#EBF0F8"
             },
             "line": {
              "color": "white"
             }
            },
            "header": {
             "fill": {
              "color": "#C8D4E3"
             },
             "line": {
              "color": "white"
             }
            },
            "type": "table"
           }
          ]
         },
         "layout": {
          "annotationdefaults": {
           "arrowcolor": "#2a3f5f",
           "arrowhead": 0,
           "arrowwidth": 1
          },
          "autotypenumbers": "strict",
          "coloraxis": {
           "colorbar": {
            "outlinewidth": 0,
            "ticks": ""
           }
          },
          "colorscale": {
           "diverging": [
            [
             0,
             "#8e0152"
            ],
            [
             0.1,
             "#c51b7d"
            ],
            [
             0.2,
             "#de77ae"
            ],
            [
             0.3,
             "#f1b6da"
            ],
            [
             0.4,
             "#fde0ef"
            ],
            [
             0.5,
             "#f7f7f7"
            ],
            [
             0.6,
             "#e6f5d0"
            ],
            [
             0.7,
             "#b8e186"
            ],
            [
             0.8,
             "#7fbc41"
            ],
            [
             0.9,
             "#4d9221"
            ],
            [
             1,
             "#276419"
            ]
           ],
           "sequential": [
            [
             0,
             "#0d0887"
            ],
            [
             0.1111111111111111,
             "#46039f"
            ],
            [
             0.2222222222222222,
             "#7201a8"
            ],
            [
             0.3333333333333333,
             "#9c179e"
            ],
            [
             0.4444444444444444,
             "#bd3786"
            ],
            [
             0.5555555555555556,
             "#d8576b"
            ],
            [
             0.6666666666666666,
             "#ed7953"
            ],
            [
             0.7777777777777778,
             "#fb9f3a"
            ],
            [
             0.8888888888888888,
             "#fdca26"
            ],
            [
             1,
             "#f0f921"
            ]
           ],
           "sequentialminus": [
            [
             0,
             "#0d0887"
            ],
            [
             0.1111111111111111,
             "#46039f"
            ],
            [
             0.2222222222222222,
             "#7201a8"
            ],
            [
             0.3333333333333333,
             "#9c179e"
            ],
            [
             0.4444444444444444,
             "#bd3786"
            ],
            [
             0.5555555555555556,
             "#d8576b"
            ],
            [
             0.6666666666666666,
             "#ed7953"
            ],
            [
             0.7777777777777778,
             "#fb9f3a"
            ],
            [
             0.8888888888888888,
             "#fdca26"
            ],
            [
             1,
             "#f0f921"
            ]
           ]
          },
          "colorway": [
           "#636efa",
           "#EF553B",
           "#00cc96",
           "#ab63fa",
           "#FFA15A",
           "#19d3f3",
           "#FF6692",
           "#B6E880",
           "#FF97FF",
           "#FECB52"
          ],
          "font": {
           "color": "#2a3f5f"
          },
          "geo": {
           "bgcolor": "white",
           "lakecolor": "white",
           "landcolor": "#E5ECF6",
           "showlakes": true,
           "showland": true,
           "subunitcolor": "white"
          },
          "hoverlabel": {
           "align": "left"
          },
          "hovermode": "closest",
          "mapbox": {
           "style": "light"
          },
          "paper_bgcolor": "white",
          "plot_bgcolor": "#E5ECF6",
          "polar": {
           "angularaxis": {
            "gridcolor": "white",
            "linecolor": "white",
            "ticks": ""
           },
           "bgcolor": "#E5ECF6",
           "radialaxis": {
            "gridcolor": "white",
            "linecolor": "white",
            "ticks": ""
           }
          },
          "scene": {
           "xaxis": {
            "backgroundcolor": "#E5ECF6",
            "gridcolor": "white",
            "gridwidth": 2,
            "linecolor": "white",
            "showbackground": true,
            "ticks": "",
            "zerolinecolor": "white"
           },
           "yaxis": {
            "backgroundcolor": "#E5ECF6",
            "gridcolor": "white",
            "gridwidth": 2,
            "linecolor": "white",
            "showbackground": true,
            "ticks": "",
            "zerolinecolor": "white"
           },
           "zaxis": {
            "backgroundcolor": "#E5ECF6",
            "gridcolor": "white",
            "gridwidth": 2,
            "linecolor": "white",
            "showbackground": true,
            "ticks": "",
            "zerolinecolor": "white"
           }
          },
          "shapedefaults": {
           "line": {
            "color": "#2a3f5f"
           }
          },
          "ternary": {
           "aaxis": {
            "gridcolor": "white",
            "linecolor": "white",
            "ticks": ""
           },
           "baxis": {
            "gridcolor": "white",
            "linecolor": "white",
            "ticks": ""
           },
           "bgcolor": "#E5ECF6",
           "caxis": {
            "gridcolor": "white",
            "linecolor": "white",
            "ticks": ""
           }
          },
          "title": {
           "x": 0.05
          },
          "xaxis": {
           "automargin": true,
           "gridcolor": "white",
           "linecolor": "white",
           "ticks": "",
           "title": {
            "standoff": 15
           },
           "zerolinecolor": "white",
           "zerolinewidth": 2
          },
          "yaxis": {
           "automargin": true,
           "gridcolor": "white",
           "linecolor": "white",
           "ticks": "",
           "title": {
            "standoff": 15
           },
           "zerolinecolor": "white",
           "zerolinewidth": 2
          }
         }
        },
        "title": {
         "text": "Daily Increase "
        }
       }
      }
     },
     "metadata": {},
     "output_type": "display_data"
    }
   ],
   "source": [
    "# Tree map cho Daily Increase (hiện kết quả ngay khi mở notebook)\n",
    "\n",
    "latest_date = date_columns[-1]\n",
    "previous_date = date_columns[-2]\n",
    "\n",
    "# Tính số ca tăng mới hàng ngày cho từng quốc gia\n",
    "daily_increase = confirmed.groupby('Country/Region')[latest_date].sum() - \\\n",
    "                 confirmed.groupby('Country/Region')[previous_date].sum()\n",
    "data = daily_increase.reset_index()\n",
    "data.columns = ['Country', 'Value']\n",
    "\n",
    "# Tính phần trăm và tạo nhãn hiển thị\n",
    "total = data['Value'].sum()\n",
    "data['Percent'] = (data['Value'] / total * 100).round(2)\n",
    "data['Label'] = data['Country'] + '<br>' + data['Value'].map('{:,}'.format) + '<br>' + data['Percent'].map('{:.0f}%'.format)\n",
    "\n",
    "import plotly.express as px\n",
    "fig = px.treemap(\n",
    "    data,\n",
    "    path=['Label'],\n",
    "    values='Value',\n",
    "    title='Daily Increase '\n",
    ")\n",
    "fig.show()"
   ]
  },
  {
   "cell_type": "code",
   "execution_count": 21,
   "id": "06f651c9",
   "metadata": {},
   "outputs": [
    {
     "data": {
      "application/vnd.plotly.v1+json": {
       "config": {
        "plotlyServerURL": "https://plot.ly"
       },
       "data": [
        {
         "coloraxis": "coloraxis",
         "geo": "geo",
         "hovertemplate": "<b>%{hovertext}</b><br><br>iso_alpha=%{location}<br>Value=%{z}<extra></extra>",
         "hovertext": [
          "Afghanistan",
          "Albania",
          "Algeria",
          "Andorra",
          "Angola",
          "Antarctica",
          "Antigua and Barbuda",
          "Argentina",
          "Armenia",
          "Australia",
          "Austria",
          "Azerbaijan",
          "Bahamas",
          "Bahrain",
          "Bangladesh",
          "Barbados",
          "Belarus",
          "Belgium",
          "Belize",
          "Benin",
          "Bhutan",
          "Bolivia",
          "Bosnia and Herzegovina",
          "Botswana",
          "Brazil",
          "Bulgaria",
          "Burkina Faso",
          "Burundi",
          "Cabo Verde",
          "Cambodia",
          "Cameroon",
          "Canada",
          "Central African Republic",
          "Chad",
          "Chile",
          "China",
          "Colombia",
          "Comoros",
          "Costa Rica",
          "Croatia",
          "Cuba",
          "Cyprus",
          "Czechia",
          "Denmark",
          "Djibouti",
          "Dominica",
          "Dominican Republic",
          "Ecuador",
          "Egypt",
          "El Salvador",
          "Equatorial Guinea",
          "Eritrea",
          "Estonia",
          "Eswatini",
          "Ethiopia",
          "Fiji",
          "Finland",
          "France",
          "Gabon",
          "Gambia",
          "Georgia",
          "Germany",
          "Ghana",
          "Greece",
          "Grenada",
          "Guatemala",
          "Guinea",
          "Guinea-Bissau",
          "Guyana",
          "Haiti",
          "Honduras",
          "Hungary",
          "Iceland",
          "India",
          "Indonesia",
          "Iran",
          "Iraq",
          "Ireland",
          "Israel",
          "Italy",
          "Jamaica",
          "Japan",
          "Jordan",
          "Kazakhstan",
          "Kenya",
          "Kiribati",
          "Kuwait",
          "Kyrgyzstan",
          "Laos",
          "Latvia",
          "Lebanon",
          "Lesotho",
          "Liberia",
          "Libya",
          "Liechtenstein",
          "Lithuania",
          "Luxembourg",
          "Madagascar",
          "Malawi",
          "Malaysia",
          "Maldives",
          "Mali",
          "Malta",
          "Marshall Islands",
          "Mauritania",
          "Mauritius",
          "Mexico",
          "Moldova",
          "Monaco",
          "Mongolia",
          "Montenegro",
          "Morocco",
          "Mozambique",
          "Namibia",
          "Nauru",
          "Nepal",
          "Netherlands",
          "New Zealand",
          "Nicaragua",
          "Niger",
          "Nigeria",
          "North Macedonia",
          "Norway",
          "Oman",
          "Pakistan",
          "Palau",
          "Panama",
          "Papua New Guinea",
          "Paraguay",
          "Peru",
          "Philippines",
          "Poland",
          "Portugal",
          "Qatar",
          "Romania",
          "Rwanda",
          "Saint Kitts and Nevis",
          "Saint Lucia",
          "Saint Vincent and the Grenadines",
          "Samoa",
          "San Marino",
          "Sao Tome and Principe",
          "Saudi Arabia",
          "Senegal",
          "Serbia",
          "Seychelles",
          "Sierra Leone",
          "Singapore",
          "Slovakia",
          "Slovenia",
          "Solomon Islands",
          "Somalia",
          "South Africa",
          "South Sudan",
          "Spain",
          "Sri Lanka",
          "Sudan",
          "Suriname",
          "Sweden",
          "Switzerland",
          "Syria",
          "Tajikistan",
          "Tanzania",
          "Thailand",
          "Timor-Leste",
          "Togo",
          "Tonga",
          "Trinidad and Tobago",
          "Tunisia",
          "Tuvalu",
          "US",
          "Uganda",
          "Ukraine",
          "United Arab Emirates",
          "United Kingdom",
          "Uruguay",
          "Uzbekistan",
          "Vanuatu",
          "Venezuela",
          "Vietnam",
          "Yemen",
          "Zambia",
          "Zimbabwe"
         ],
         "locations": [
          "AFG",
          "ALB",
          "DZA",
          "AND",
          "AGO",
          "ATA",
          "ATG",
          "ARG",
          "ARM",
          "AUS",
          "AUT",
          "AZE",
          "BHS",
          "BHR",
          "BGD",
          "BRB",
          "BLR",
          "BEL",
          "BLZ",
          "BEN",
          "BTN",
          "BOL",
          "BIH",
          "BWA",
          "BRA",
          "BGR",
          "BFA",
          "BDI",
          "CPV",
          "KHM",
          "CMR",
          "CAN",
          "CAF",
          "TCD",
          "CHL",
          "CHN",
          "COL",
          "COM",
          "CRI",
          "HRV",
          "CUB",
          "CYP",
          "CZE",
          "DNK",
          "DJI",
          "DMA",
          "DOM",
          "ECU",
          "EGY",
          "SLV",
          "GNQ",
          "ERI",
          "EST",
          "SWZ",
          "ETH",
          "FJI",
          "FIN",
          "FRA",
          "GAB",
          "GMB",
          "GEO",
          "DEU",
          "GHA",
          "GRC",
          "GRD",
          "GTM",
          "GIN",
          "GNB",
          "GUY",
          "HTI",
          "HND",
          "HUN",
          "ISL",
          "IND",
          "IDN",
          "IRN",
          "IRQ",
          "IRL",
          "ISR",
          "ITA",
          "JAM",
          "JPN",
          "JOR",
          "KAZ",
          "KEN",
          "KIR",
          "KWT",
          "KGZ",
          "LAO",
          "LVA",
          "LBN",
          "LSO",
          "LBR",
          "LBY",
          "LIE",
          "LTU",
          "LUX",
          "MDG",
          "MWI",
          "MYS",
          "MDV",
          "MLI",
          "MLT",
          "MHL",
          "MRT",
          "MUS",
          "MEX",
          "MDA",
          "MCO",
          "MNG",
          "MNE",
          "MAR",
          "MOZ",
          "NAM",
          "NRU",
          "NPL",
          "NLD",
          "NZL",
          "NIC",
          "NER",
          "NGA",
          "MKD",
          "NOR",
          "OMN",
          "PAK",
          "PLW",
          "PAN",
          "PNG",
          "PRY",
          "PER",
          "PHL",
          "POL",
          "PRT",
          "QAT",
          "ROU",
          "RWA",
          "KNA",
          "LCA",
          "VCT",
          "WSM",
          "SMR",
          "STP",
          "SAU",
          "SEN",
          "SRB",
          "SYC",
          "SLE",
          "SGP",
          "SVK",
          "SVN",
          "SLB",
          "SOM",
          "ZAF",
          "SSD",
          "ESP",
          "LKA",
          "SDN",
          "SUR",
          "SWE",
          "CHE",
          "SYR",
          "TJK",
          "TZA",
          "THA",
          "TLS",
          "TGO",
          "TON",
          "TTO",
          "TUN",
          "TUV",
          "USA",
          "UGA",
          "UKR",
          "ARE",
          "GBR",
          "URY",
          "UZB",
          "VUT",
          "VEN",
          "VNM",
          "YEM",
          "ZMB",
          "ZWE"
         ],
         "name": "",
         "type": "choropleth",
         "z": {
          "bdata": "KzIDAHkaBQCIJAQAErsAAEibAQALAAAAkiMAAB1GmQBM0wYAJPGtALf1WgCZpQwAc5IAACXYCgBvGB8ALqEBAPUqDwAlUUgAZRQBAF9tAACj9AAAJTkSAEEhBgAeCAUAVbw1AnPMEwAoVgAAf9EAAAz3AADfHQIA6OUBAIdzRgAIPAAA/x0AAF46TwBk0koANQhhADAjAAB9dRIATl4TAEP6EAC97QkAEHhGAJyoNABKPQAAkD0AADYVCgBhIRAAr94HADkUAwBNQwAAzScAAAlkCQAbIgEAlKEHACINAQBcVRYAXlFgAlW/AAA2MQAA0eIbAGSiRwLdnAIAx6lUAOBMAADn5BIAe5UAAAAjAABzHQEAmoUAALo0BwBEhSEA8TADADLtqQIx0WYAV4tzAAmfJQA2AhoA8ExJALathgEwWwIA9m38ATWoGgAs3hYAmTsFAJYTAAA0IQoAdCcDAKdTAwB/5Q4AvM8SAOaHAACaHwAAM70HALhTAAA48xMAt9cEADEJAQCDWgEA7vlMAIrVAgAmgQAAassBACE9AAC0+AAAaoQEADQwcgBEUwkA+T4AABxhDwAoaAQAqmoTAP6OAwCUnAIAfxQAAMJGDwCD8oQA0h4iACc9AAAkJQAAZhEEAORKBQBSkxYAWRgGAMMRGABnFwAAM74PAOm2AADRVQwAgXlEAIw3PgCgV2IAqf9UAPKNBwB+DjMASggCAMUZAAA0dQAAdSUAAN9AAABAXAAAiRgAAK+qDABeWwEALiYmAOnFAABQHgAAnhsiAB+0KAD7URQA/18AALxqAAD7Dj4AwEcAAL0e0gAnQQoAVfkAACNCAQBLMCkA11lDAHvgAAB6RQAAmqcAAHYlSAB7WwAA5JkAAKpBAADe5QIAlpARAPUKAABO5y8GMJoCADkoVwAdEhAAEUN4AT/IDwBv1QMA7i4AAOJsCABS468AqS4AAF88BQBUCAQA",
          "dtype": "i4"
         }
        }
       ],
       "layout": {
        "coloraxis": {
         "colorbar": {
          "title": {
           "text": "Value"
          }
         },
         "colorscale": [
          [
           0,
           "rgb(247,251,255)"
          ],
          [
           0.125,
           "rgb(222,235,247)"
          ],
          [
           0.25,
           "rgb(198,219,239)"
          ],
          [
           0.375,
           "rgb(158,202,225)"
          ],
          [
           0.5,
           "rgb(107,174,214)"
          ],
          [
           0.625,
           "rgb(66,146,198)"
          ],
          [
           0.75,
           "rgb(33,113,181)"
          ],
          [
           0.875,
           "rgb(8,81,156)"
          ],
          [
           1,
           "rgb(8,48,107)"
          ]
         ]
        },
        "geo": {
         "center": {},
         "domain": {
          "x": [
           0,
           1
          ],
          "y": [
           0,
           1
          ]
         }
        },
        "legend": {
         "tracegroupgap": 0
        },
        "template": {
         "data": {
          "bar": [
           {
            "error_x": {
             "color": "#2a3f5f"
            },
            "error_y": {
             "color": "#2a3f5f"
            },
            "marker": {
             "line": {
              "color": "#E5ECF6",
              "width": 0.5
             },
             "pattern": {
              "fillmode": "overlay",
              "size": 10,
              "solidity": 0.2
             }
            },
            "type": "bar"
           }
          ],
          "barpolar": [
           {
            "marker": {
             "line": {
              "color": "#E5ECF6",
              "width": 0.5
             },
             "pattern": {
              "fillmode": "overlay",
              "size": 10,
              "solidity": 0.2
             }
            },
            "type": "barpolar"
           }
          ],
          "carpet": [
           {
            "aaxis": {
             "endlinecolor": "#2a3f5f",
             "gridcolor": "white",
             "linecolor": "white",
             "minorgridcolor": "white",
             "startlinecolor": "#2a3f5f"
            },
            "baxis": {
             "endlinecolor": "#2a3f5f",
             "gridcolor": "white",
             "linecolor": "white",
             "minorgridcolor": "white",
             "startlinecolor": "#2a3f5f"
            },
            "type": "carpet"
           }
          ],
          "choropleth": [
           {
            "colorbar": {
             "outlinewidth": 0,
             "ticks": ""
            },
            "type": "choropleth"
           }
          ],
          "contour": [
           {
            "colorbar": {
             "outlinewidth": 0,
             "ticks": ""
            },
            "colorscale": [
             [
              0,
              "#0d0887"
             ],
             [
              0.1111111111111111,
              "#46039f"
             ],
             [
              0.2222222222222222,
              "#7201a8"
             ],
             [
              0.3333333333333333,
              "#9c179e"
             ],
             [
              0.4444444444444444,
              "#bd3786"
             ],
             [
              0.5555555555555556,
              "#d8576b"
             ],
             [
              0.6666666666666666,
              "#ed7953"
             ],
             [
              0.7777777777777778,
              "#fb9f3a"
             ],
             [
              0.8888888888888888,
              "#fdca26"
             ],
             [
              1,
              "#f0f921"
             ]
            ],
            "type": "contour"
           }
          ],
          "contourcarpet": [
           {
            "colorbar": {
             "outlinewidth": 0,
             "ticks": ""
            },
            "type": "contourcarpet"
           }
          ],
          "heatmap": [
           {
            "colorbar": {
             "outlinewidth": 0,
             "ticks": ""
            },
            "colorscale": [
             [
              0,
              "#0d0887"
             ],
             [
              0.1111111111111111,
              "#46039f"
             ],
             [
              0.2222222222222222,
              "#7201a8"
             ],
             [
              0.3333333333333333,
              "#9c179e"
             ],
             [
              0.4444444444444444,
              "#bd3786"
             ],
             [
              0.5555555555555556,
              "#d8576b"
             ],
             [
              0.6666666666666666,
              "#ed7953"
             ],
             [
              0.7777777777777778,
              "#fb9f3a"
             ],
             [
              0.8888888888888888,
              "#fdca26"
             ],
             [
              1,
              "#f0f921"
             ]
            ],
            "type": "heatmap"
           }
          ],
          "histogram": [
           {
            "marker": {
             "pattern": {
              "fillmode": "overlay",
              "size": 10,
              "solidity": 0.2
             }
            },
            "type": "histogram"
           }
          ],
          "histogram2d": [
           {
            "colorbar": {
             "outlinewidth": 0,
             "ticks": ""
            },
            "colorscale": [
             [
              0,
              "#0d0887"
             ],
             [
              0.1111111111111111,
              "#46039f"
             ],
             [
              0.2222222222222222,
              "#7201a8"
             ],
             [
              0.3333333333333333,
              "#9c179e"
             ],
             [
              0.4444444444444444,
              "#bd3786"
             ],
             [
              0.5555555555555556,
              "#d8576b"
             ],
             [
              0.6666666666666666,
              "#ed7953"
             ],
             [
              0.7777777777777778,
              "#fb9f3a"
             ],
             [
              0.8888888888888888,
              "#fdca26"
             ],
             [
              1,
              "#f0f921"
             ]
            ],
            "type": "histogram2d"
           }
          ],
          "histogram2dcontour": [
           {
            "colorbar": {
             "outlinewidth": 0,
             "ticks": ""
            },
            "colorscale": [
             [
              0,
              "#0d0887"
             ],
             [
              0.1111111111111111,
              "#46039f"
             ],
             [
              0.2222222222222222,
              "#7201a8"
             ],
             [
              0.3333333333333333,
              "#9c179e"
             ],
             [
              0.4444444444444444,
              "#bd3786"
             ],
             [
              0.5555555555555556,
              "#d8576b"
             ],
             [
              0.6666666666666666,
              "#ed7953"
             ],
             [
              0.7777777777777778,
              "#fb9f3a"
             ],
             [
              0.8888888888888888,
              "#fdca26"
             ],
             [
              1,
              "#f0f921"
             ]
            ],
            "type": "histogram2dcontour"
           }
          ],
          "mesh3d": [
           {
            "colorbar": {
             "outlinewidth": 0,
             "ticks": ""
            },
            "type": "mesh3d"
           }
          ],
          "parcoords": [
           {
            "line": {
             "colorbar": {
              "outlinewidth": 0,
              "ticks": ""
             }
            },
            "type": "parcoords"
           }
          ],
          "pie": [
           {
            "automargin": true,
            "type": "pie"
           }
          ],
          "scatter": [
           {
            "fillpattern": {
             "fillmode": "overlay",
             "size": 10,
             "solidity": 0.2
            },
            "type": "scatter"
           }
          ],
          "scatter3d": [
           {
            "line": {
             "colorbar": {
              "outlinewidth": 0,
              "ticks": ""
             }
            },
            "marker": {
             "colorbar": {
              "outlinewidth": 0,
              "ticks": ""
             }
            },
            "type": "scatter3d"
           }
          ],
          "scattercarpet": [
           {
            "marker": {
             "colorbar": {
              "outlinewidth": 0,
              "ticks": ""
             }
            },
            "type": "scattercarpet"
           }
          ],
          "scattergeo": [
           {
            "marker": {
             "colorbar": {
              "outlinewidth": 0,
              "ticks": ""
             }
            },
            "type": "scattergeo"
           }
          ],
          "scattergl": [
           {
            "marker": {
             "colorbar": {
              "outlinewidth": 0,
              "ticks": ""
             }
            },
            "type": "scattergl"
           }
          ],
          "scattermap": [
           {
            "marker": {
             "colorbar": {
              "outlinewidth": 0,
              "ticks": ""
             }
            },
            "type": "scattermap"
           }
          ],
          "scattermapbox": [
           {
            "marker": {
             "colorbar": {
              "outlinewidth": 0,
              "ticks": ""
             }
            },
            "type": "scattermapbox"
           }
          ],
          "scatterpolar": [
           {
            "marker": {
             "colorbar": {
              "outlinewidth": 0,
              "ticks": ""
             }
            },
            "type": "scatterpolar"
           }
          ],
          "scatterpolargl": [
           {
            "marker": {
             "colorbar": {
              "outlinewidth": 0,
              "ticks": ""
             }
            },
            "type": "scatterpolargl"
           }
          ],
          "scatterternary": [
           {
            "marker": {
             "colorbar": {
              "outlinewidth": 0,
              "ticks": ""
             }
            },
            "type": "scatterternary"
           }
          ],
          "surface": [
           {
            "colorbar": {
             "outlinewidth": 0,
             "ticks": ""
            },
            "colorscale": [
             [
              0,
              "#0d0887"
             ],
             [
              0.1111111111111111,
              "#46039f"
             ],
             [
              0.2222222222222222,
              "#7201a8"
             ],
             [
              0.3333333333333333,
              "#9c179e"
             ],
             [
              0.4444444444444444,
              "#bd3786"
             ],
             [
              0.5555555555555556,
              "#d8576b"
             ],
             [
              0.6666666666666666,
              "#ed7953"
             ],
             [
              0.7777777777777778,
              "#fb9f3a"
             ],
             [
              0.8888888888888888,
              "#fdca26"
             ],
             [
              1,
              "#f0f921"
             ]
            ],
            "type": "surface"
           }
          ],
          "table": [
           {
            "cells": {
             "fill": {
              "color": "#EBF0F8"
             },
             "line": {
              "color": "white"
             }
            },
            "header": {
             "fill": {
              "color": "#C8D4E3"
             },
             "line": {
              "color": "white"
             }
            },
            "type": "table"
           }
          ]
         },
         "layout": {
          "annotationdefaults": {
           "arrowcolor": "#2a3f5f",
           "arrowhead": 0,
           "arrowwidth": 1
          },
          "autotypenumbers": "strict",
          "coloraxis": {
           "colorbar": {
            "outlinewidth": 0,
            "ticks": ""
           }
          },
          "colorscale": {
           "diverging": [
            [
             0,
             "#8e0152"
            ],
            [
             0.1,
             "#c51b7d"
            ],
            [
             0.2,
             "#de77ae"
            ],
            [
             0.3,
             "#f1b6da"
            ],
            [
             0.4,
             "#fde0ef"
            ],
            [
             0.5,
             "#f7f7f7"
            ],
            [
             0.6,
             "#e6f5d0"
            ],
            [
             0.7,
             "#b8e186"
            ],
            [
             0.8,
             "#7fbc41"
            ],
            [
             0.9,
             "#4d9221"
            ],
            [
             1,
             "#276419"
            ]
           ],
           "sequential": [
            [
             0,
             "#0d0887"
            ],
            [
             0.1111111111111111,
             "#46039f"
            ],
            [
             0.2222222222222222,
             "#7201a8"
            ],
            [
             0.3333333333333333,
             "#9c179e"
            ],
            [
             0.4444444444444444,
             "#bd3786"
            ],
            [
             0.5555555555555556,
             "#d8576b"
            ],
            [
             0.6666666666666666,
             "#ed7953"
            ],
            [
             0.7777777777777778,
             "#fb9f3a"
            ],
            [
             0.8888888888888888,
             "#fdca26"
            ],
            [
             1,
             "#f0f921"
            ]
           ],
           "sequentialminus": [
            [
             0,
             "#0d0887"
            ],
            [
             0.1111111111111111,
             "#46039f"
            ],
            [
             0.2222222222222222,
             "#7201a8"
            ],
            [
             0.3333333333333333,
             "#9c179e"
            ],
            [
             0.4444444444444444,
             "#bd3786"
            ],
            [
             0.5555555555555556,
             "#d8576b"
            ],
            [
             0.6666666666666666,
             "#ed7953"
            ],
            [
             0.7777777777777778,
             "#fb9f3a"
            ],
            [
             0.8888888888888888,
             "#fdca26"
            ],
            [
             1,
             "#f0f921"
            ]
           ]
          },
          "colorway": [
           "#636efa",
           "#EF553B",
           "#00cc96",
           "#ab63fa",
           "#FFA15A",
           "#19d3f3",
           "#FF6692",
           "#B6E880",
           "#FF97FF",
           "#FECB52"
          ],
          "font": {
           "color": "#2a3f5f"
          },
          "geo": {
           "bgcolor": "white",
           "lakecolor": "white",
           "landcolor": "#E5ECF6",
           "showlakes": true,
           "showland": true,
           "subunitcolor": "white"
          },
          "hoverlabel": {
           "align": "left"
          },
          "hovermode": "closest",
          "mapbox": {
           "style": "light"
          },
          "paper_bgcolor": "white",
          "plot_bgcolor": "#E5ECF6",
          "polar": {
           "angularaxis": {
            "gridcolor": "white",
            "linecolor": "white",
            "ticks": ""
           },
           "bgcolor": "#E5ECF6",
           "radialaxis": {
            "gridcolor": "white",
            "linecolor": "white",
            "ticks": ""
           }
          },
          "scene": {
           "xaxis": {
            "backgroundcolor": "#E5ECF6",
            "gridcolor": "white",
            "gridwidth": 2,
            "linecolor": "white",
            "showbackground": true,
            "ticks": "",
            "zerolinecolor": "white"
           },
           "yaxis": {
            "backgroundcolor": "#E5ECF6",
            "gridcolor": "white",
            "gridwidth": 2,
            "linecolor": "white",
            "showbackground": true,
            "ticks": "",
            "zerolinecolor": "white"
           },
           "zaxis": {
            "backgroundcolor": "#E5ECF6",
            "gridcolor": "white",
            "gridwidth": 2,
            "linecolor": "white",
            "showbackground": true,
            "ticks": "",
            "zerolinecolor": "white"
           }
          },
          "shapedefaults": {
           "line": {
            "color": "#2a3f5f"
           }
          },
          "ternary": {
           "aaxis": {
            "gridcolor": "white",
            "linecolor": "white",
            "ticks": ""
           },
           "baxis": {
            "gridcolor": "white",
            "linecolor": "white",
            "ticks": ""
           },
           "bgcolor": "#E5ECF6",
           "caxis": {
            "gridcolor": "white",
            "linecolor": "white",
            "ticks": ""
           }
          },
          "title": {
           "x": 0.05
          },
          "xaxis": {
           "automargin": true,
           "gridcolor": "white",
           "linecolor": "white",
           "ticks": "",
           "title": {
            "standoff": 15
           },
           "zerolinecolor": "white",
           "zerolinewidth": 2
          },
          "yaxis": {
           "automargin": true,
           "gridcolor": "white",
           "linecolor": "white",
           "ticks": "",
           "title": {
            "standoff": 15
           },
           "zerolinecolor": "white",
           "zerolinewidth": 2
          }
         }
        },
        "title": {
         "text": "Confirmed Cases by Country"
        }
       }
      }
     },
     "metadata": {},
     "output_type": "display_data"
    }
   ],
   "source": [
    "# Bản đồ thế giới cho Confirmed (hiện kết quả ngay khi mở notebook)\n",
    "\n",
    "import pycountry\n",
    "\n",
    "latest_date = date_columns[-1]\n",
    "data_confirmed = confirmed.groupby('Country/Region')[latest_date].sum().reset_index()\n",
    "data_confirmed.columns = ['Country', 'Value']\n",
    "\n",
    "def get_iso3(country_name):\n",
    "    try:\n",
    "        return pycountry.countries.lookup(country_name).alpha_3\n",
    "    except:\n",
    "        return None\n",
    "\n",
    "data_confirmed['iso_alpha'] = data_confirmed['Country'].apply(get_iso3)\n",
    "data_confirmed = data_confirmed.dropna(subset=['iso_alpha'])\n",
    "\n",
    "fig = px.choropleth(\n",
    "    data_confirmed,\n",
    "    locations='iso_alpha',\n",
    "    color='Value',\n",
    "    hover_name='Country',\n",
    "    color_continuous_scale='Blues',\n",
    "    title='Confirmed Cases by Country'\n",
    ")\n",
    "fig.show()"
   ]
  }
 ],
 "metadata": {
  "kernelspec": {
   "display_name": "env",
   "language": "python",
   "name": "python3"
  },
  "language_info": {
   "codemirror_mode": {
    "name": "ipython",
    "version": 3
   },
   "file_extension": ".py",
   "mimetype": "text/x-python",
   "name": "python",
   "nbconvert_exporter": "python",
   "pygments_lexer": "ipython3",
   "version": "3.13.7"
  }
 },
 "nbformat": 4,
 "nbformat_minor": 5
}
